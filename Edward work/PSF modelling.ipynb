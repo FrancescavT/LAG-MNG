{
 "cells": [
  {
   "cell_type": "markdown",
   "metadata": {},
   "source": [
    "<img src=\"logo.png\"/>\n",
    "\n",
    "# PSF Modelling\n",
    "In this notebook we will go through the theory of PSF modelling and build a series of functitons to help calculate PSFs in the future.\n",
    "\n",
    "We have already seen how the PSF of a system can be calculated from the Fourier transform of the apperture function.\n",
    "However, although this is a good approximation in image processing, in the real world more complicated models are needed. For a correct model of focussing through a high NA lens we must consider the effects of the phase distortions and polarisation of the input light.\n",
    "\n",
    "The frist step is to redefine the beam as a composition of electrical fields with orthogonal polrasation states. These can ten be recombined later to give the final electric field. The next step is to further break up the electric field into an infinite sum of waves travelling towards the focus along vectors $ \\textbf{s} =(s_x,s_y,s_z)$. As the electric field is the sum of all of these waves we calculate it by integrating over all possible waves reaching the focus from the exit of the lens. \n",
    " \n",
    " \n",
    "Without going into the original derivation by Richards and Wolf, the electric field at a point $ \\textbf{p} = (x,y,z) $  is calculated using: \n",
    "\n",
    "$$ \\textbf{E}(x,y,z) = \\frac{-ikC}{2\\pi} \\iint_{\\Omega} \\textbf{T}(\\textbf{s})\\exp[ikn(\\Phi(s_x,s_y)+s_xx+s_yy+s_zz)] d\\Omega$$\n",
    "\n",
    "As the beam is radially symmetric around the optical axis, this integral is usually taken over the solid angle of the lens, i.e. a double integral over the radial coordinate $\\phi $ and the acceptance angle of the lens $\\theta$. This results in the coordinate tranform $ \\textbf{s} = (s_x,s_y,s_z) = (\\sin{\\theta}\\cos{\\phi},\\sin{\\theta}\\sin{\\phi},\\cos{\\theta}\n",
    ") $ and $ d\\Omega = \\sin(\\theta)d\\theta d\\phi$\n",
    "\n",
    "$\\textbf{T}(\\textbf{s})$ is a matrix drescribing the light at the entrance to the pupil and contains the information on the amplitude, phase and polarisation. We break this term up into these components as:\n",
    "$$\\textbf{T}(\\textbf{s}) = \\sqrt{\\cos{\\theta}}A(\\theta,\\phi)B(\\theta,\\phi)\\begin{bmatrix} p_x\\\\ p_y\\\\ p_z \\end{bmatrix} $$\n",
    "\n",
    "Here $A(\\theta,\\phi)$ describes the amplitude distribution, $B(\\theta,\\phi)$ describes the phase distribution and [P_x; P_y; p_z] is a matrix describing how the $x,y$ and $z$ components of the light at the lens are rotated as they travel to the focus. The $\\sqrt{\\cos{\\theta}}$ results from the conservation of energy since we are describing a flat field passing through a curved reference sphere. \n",
    "\n",
    "<img src=\"Debeye Integral Co-ordinates.jpg\" alt=\"drawing\" width=\"400\"/>\n",
    "$\\textbf{Figure 1}$ Coordinate system for calculating the difraction integral.\n",
    "\n",
    "Putting this together we get the rather convoluted formula:\n",
    "\n",
    "$$ \\begin{bmatrix} E_x(x,y,z)\\\\ E_y(x,y,z)\\\\ E_z(x,y,z) \\end{bmatrix} = \\frac{-ikC}{2\\pi} \\iint_{\\Omega} \\sqrt{\\cos{\\theta}}A(\\theta,\\phi)B(\\theta,\\phi)\\begin{bmatrix} p_x\\\\ p_y\\\\ p_z \\end{bmatrix} \\cdots $$ $$ \\cdots \\times \\exp[ikn(x\\sin{\\theta}\\cos{\\phi}+y\\sin{\\theta}\\sin{\\phi}+z\\cos{\\theta})]  d\\theta d\\phi $$\n",
    "\n"
   ]
  },
  {
   "cell_type": "code",
   "execution_count": 3,
   "metadata": {},
   "outputs": [],
   "source": [
    "import numpy as np\n",
    "import skimage\n",
    "from skimage import io\n",
    "from matplotlib import pyplot as plt\n",
    "\n",
    "w = 1000 # Number of pixels\n",
    "wave = 500 # Wavelength (nm)\n",
    "px = 80 # Pixel size (nm)\n",
    "NA = 1.2 # Objective numerical aperture \n",
    "\n",
    "\n"
   ]
  },
  {
   "cell_type": "markdown",
   "metadata": {},
   "source": []
  },
  {
   "cell_type": "code",
   "execution_count": null,
   "metadata": {},
   "outputs": [],
   "source": []
  }
 ],
 "metadata": {
  "kernelspec": {
   "display_name": "Python 3",
   "language": "python",
   "name": "python3"
  },
  "language_info": {
   "codemirror_mode": {
    "name": "ipython",
    "version": 3
   },
   "file_extension": ".py",
   "mimetype": "text/x-python",
   "name": "python",
   "nbconvert_exporter": "python",
   "pygments_lexer": "ipython3",
   "version": "3.7.6"
  }
 },
 "nbformat": 4,
 "nbformat_minor": 4
}
