{
 "cells": [
  {
   "cell_type": "markdown",
   "metadata": {},
   "source": [
    "<img src=\"logo.png\"/>\n",
    "\n",
    "# PSF Modelling\n",
    "In this notebook we will go through the theory of PSF modelling and build a series of functitons to help calculate PSFs in the future.\n",
    "\n",
    "We have already seen how the PSF of a system can be calculated from the Fourier transform of the apperture function.\n",
    "However, although this is a good approximation in image processing, in the real world more complicated models are needed. For a correct model of focussing through a high NA lens we must consider the effects of phase distortions on the beam as well as the polarisation of the input light. The frist step is to redefine the beam as a composition of electrical fields with orthogonal polrasation states. These can ten be recombined later to give the final electric field.\n",
    "The next step is to further break up the electric field into an infinite sum of waves travelling through different positions in the  aperture, i.e. the electric field at the focus is calculated by integrating over all possible waves reaching it. As the beam is radially symmetric around the optical axis, the integral is usually taken over the solid angle of the lens. This then becomes a double integral over the radial coordinate $\\phi $ and the acceptance angle of the lens $ \\theta $    \n",
    " <img src=\"Debeye Integral Co-ordinates.jpg\" alt=\"drawing\" width=\"400\"/>\n",
    " \n",
    " \n",
    "Without going into the original derivation by Richards and Wolf, we can calculate the PSF using: \n",
    "\n",
    "$$ \\textbf{E}(x,y,z) = \\frac{ikC}{2\\pi} \\iint_{\\Omega} \\textbf{T}(S)\\exp(ik[(\\Phi(x,y)+) d\\Omega$$\n",
    "\n",
    "\n",
    "\n",
    "We can begin in the same as we did before; by defining a circular pupil."
   ]
  },
  {
   "cell_type": "code",
   "execution_count": 1,
   "metadata": {},
   "outputs": [
    {
     "data": {
      "image/png": "[encoded data removed]",
      "text/plain": [
       "<Figure size 432x288 with 1 Axes>"
      ]
     },
     "metadata": {
      "needs_background": "light"
     },
     "output_type": "display_data"
    }
   ],
   "source": [
    "import numpy as np\n",
    "import skimage\n",
    "from skimage import io\n",
    "from matplotlib import pyplot as plt\n",
    "\n",
    "w = 1000 # Number of pixels\n",
    "wave = 500 # Wavelength (nm)\n",
    "px = 80 # Pixel size (nm)\n",
    "NA = 1.2 # Objective numerical aperture \n",
    "\n",
    "dkxy = (2*np.pi)/(w*px)\n",
    "\n",
    "# define the coordiante matrices we will need\n",
    "x = np.linspace(-w/2,w/2,w)\n",
    "y = np.linspace(-w/2,w/2,w)\n",
    "X,Y = np.meshgrid(x,y)\n",
    "R = np.sqrt(X**2+Y**2)\n",
    "\n",
    "# Determine the coefficients form the constants\n",
    "dkxy = (2*np.pi)/(w*px)\n",
    "kMax = (2*np.pi*NA)/(wave*dkxy)\n",
    "\n",
    "# And then draw the basic pupil\n",
    "pupil = np.zeros((w,w))\n",
    "pupil[R<kMax] = 1\n",
    "\n",
    "plt.imshow(pupil)\n",
    "plt.show()\n"
   ]
  },
  {
   "cell_type": "markdown",
   "metadata": {},
   "source": [
    "But, as we work with higher numerical aperture objectives, we can no longer model the pupil as a uniform circle. \n",
    "\n",
    " <img src=\"Debeye Integral Co-ordinates.jpg\" alt=\"drawing\" width=\"600\"/>"
   ]
  },
  {
   "cell_type": "code",
   "execution_count": null,
   "metadata": {},
   "outputs": [],
   "source": []
  }
 ],
 "metadata": {
  "kernelspec": {
   "display_name": "Python 3",
   "language": "python",
   "name": "python3"
  },
  "language_info": {
   "codemirror_mode": {
    "name": "ipython",
    "version": 3
   },
   "file_extension": ".py",
   "mimetype": "text/x-python",
   "name": "python",
   "nbconvert_exporter": "python",
   "pygments_lexer": "ipython3",
   "version": "3.7.6"
  }
 },
 "nbformat": 4,
 "nbformat_minor": 4
}
