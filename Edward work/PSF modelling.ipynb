{
 "cells": [
  {
   "cell_type": "markdown",
   "metadata": {},
   "source": [
    "<img src=\"logo.png\"/>\n",
    "\n",
    "# PSF Modelling\n",
    "In this notebook we will go through the theory of PSF modelling and build a series of functitons to help calculate PSFs in the future.\n",
    "\n",
    "We have already seen how the PSF of a system can be calculated from the Fourier transform of the apperture function.\n",
    "However, although this is a good approximation in image processing, in the real world more complicated models are needed. For a correct model of focussing through a high NA lens we must consider the effects of the phase distortions and polarisation of the input light.\n",
    "\n",
    "The frist step is to redefine the beam as a composition of electrical fields with orthogonal polarisation states. These can then be recombined later to give the final electric field. The next step is to further break up the electric field into an infinite sum of waves travelling towards the focus along vectors $ \\textbf{s} =(s_x,s_y,s_z)$. As the electric field is the sum of all of these waves we calculate it by integrating over all possible waves reaching the focus from the exit of the lens. \n",
    " \n",
    "Without going into the original derivation by Richards and Wolf, the electric field at a point $ \\textbf{p} = (x,y,z) $  is calculated using: \n",
    "\n",
    "$$ \\textbf{E}(x,y,z) = \\frac{-ikC}{2\\pi} \\iint_{\\Omega} \\textbf{T}(\\textbf{s})\\exp[ikn(\\Phi(s_x,s_y)+s_xx+s_yy+s_zz)] d\\Omega$$\n",
    "\n",
    "As the beam is radially symmetric around the optical axis, this integral is usually taken over the solid angle of the lens, i.e. a double integral over the radial coordinate $\\phi $ and the acceptance angle of the lens $\\theta$. This results in the coordinate tranform $ \\textbf{s} = (s_x,s_y,s_z) = (\\sin{\\theta}\\cos{\\phi},\\sin{\\theta}\\sin{\\phi},\\cos{\\theta}\n",
    ") $ and $ d\\Omega = \\sin(\\theta)d\\theta d\\phi$\n",
    "\n",
    "$\\textbf{T}(\\textbf{s})$ is a matrix drescribing the light at the entrance to the pupil and contains the information on the amplitude, phase and polarisation. We break this term up into these components as:\n",
    "$$\\textbf{T}(\\textbf{s}) = \\sqrt{\\cos{\\theta}}A(\\theta,\\phi)B(\\theta,\\phi)\\begin{bmatrix} p_x\\\\ p_y\\\\ p_z \\end{bmatrix} $$\n",
    "\n",
    "Here $A(\\theta,\\phi)$ describes the amplitude distribution, $B(\\theta,\\phi)$ describes the phase distribution and $[p_x; p_y; p_z]$ is a matrix describing how the $x,y$ and $z$ polarisation componenets of the light at the lens are rotated as they travel to the focus. The $\\sqrt{\\cos{\\theta}}$ results from the conservation of energy since we are describing a flat field passing through a curved reference sphere. \n",
    "\n",
    "<img src=\"Debeye Integral Co-ordinates.jpg\" alt=\"drawing\" width=\"400\"/>\n",
    "$\\textbf{Figure 1}$ Coordinate system for calculating the difraction integral. $\\textbf{A}$ is the entrance pupil and $\\textbf{B}$ is the reference sphere over which the integral is calculated.\n",
    "\n",
    "Putting this together we get the rather convoluted formula:\n",
    "\n",
    "$$ \\begin{bmatrix} E_x(x,y,z)\\\\ E_y(x,y,z)\\\\ E_z(x,y,z) \\end{bmatrix} = \\frac{-ikC}{2\\pi} \\int_{0}^{2\\pi} \\int_{0}^\\alpha \\sqrt{\\cos{\\theta}}A(\\theta,\\phi)B(\\theta,\\phi)\\begin{bmatrix} p_x\\\\ p_y\\\\ p_z \\end{bmatrix} \\cdots $$ $$ \\cdots \\times \\exp[ikn(x\\sin{\\theta}\\cos{\\phi}+y\\sin{\\theta}\\sin{\\phi}+z\\cos{\\theta})]  \\sin(\\theta) d\\theta d\\phi $$\n",
    "\n",
    "\n",
    "To calculate the polarisation at the focus ($[p_x; p_y; p_z]$) we need to define how the polarisation of the light at the pupil ($[P_x; P_y; P_z]$) is transformed through the lens. Again we can skip the derivation which is given in length by Richards and Wolf and define this through a multiplation with a rotation matrix as:\n",
    "\n",
    "$$\\begin{bmatrix} p_x\\\\ p_y\\\\ p_z \\end{bmatrix} = \\begin{bmatrix}\n",
    "1+(\\cos{\\theta}-1)\\cos^2{\\phi} & (\\cos{\\theta}-1)\\cos{\\phi}\\sin{\\phi} & -\\sin{\\theta}\\cos{phi}\\\\\n",
    "(\\cos{\\theta}-1)\\cos{\\phi}\\sin{\\phi} & 1+(\\cos{\\theta}-1)\\sin^2{\\phi} & -\\sin{\\theta}\\sin{phi}\\\\ \n",
    "\\sin{\\theta}\\cos{\\phi} &  -\\sin{\\theta}\\sin{\\phi}  & \\cos{\\theta} \\end{bmatrix}\\begin{bmatrix} P_x\\\\ P_y\\\\ P_z \\end{bmatrix} $$\n",
    "\n",
    "Combining these two equations we can begin to start coding a method to solve this numerically\n"
   ]
  },
  {
   "cell_type": "code",
   "execution_count": 17,
   "metadata": {},
   "outputs": [
    {
     "data": {
      "text/plain": [
       "<function matplotlib.pyplot.show(*args, **kw)>"
      ]
     },
     "execution_count": 17,
     "metadata": {},
     "output_type": "execute_result"
    },
    {
     "data": {
      "image/png": "[encoded data removed]",
      "text/plain": [
       "<Figure size 432x288 with 2 Axes>"
      ]
     },
     "metadata": {
      "needs_background": "light"
     },
     "output_type": "display_data"
    }
   ],
   "source": [
    "import numpy as np\n",
    "from matplotlib import pyplot as plt\n",
    "\n",
    "w = 200 # Number of pixels at the pupil\n",
    "l = 150 # Number of pixels in the focal plane\n",
    "wave = 500 # Wavelength (nm)\n",
    "px = 10 # Pixel size (nm)\n",
    "NA = 1.49 # Objective numerical aperture \n",
    "n = 1.5\n",
    "Zoff = 0 # z offset\n",
    "\n",
    "alpha = np.arcsin(NA/n) # Half angle of the objective lens\n",
    "k = 2*np.pi/wave\n",
    "\n",
    "dTheta = alpha/w\n",
    "dPhi = 2*np.pi/w\n",
    "\n",
    "# Since we're only integrating over the pupil itself, we set A(theta,phi) = 1 everywhere\n",
    "# we'll keep with the simplest case of no phase mask/ aberrations for the moment ans also set B(theta,phi) = 1 everywhere\n",
    "\n",
    "# We next initialise the field values in the focal plane\n",
    "Ex = 0\n",
    "Ey = 0\n",
    "Ez = 0\n",
    "\n",
    "# We now need the relative intensities of the x,z,y components at the pupil plane\n",
    "Ppupil = np.array([[1],[0],[0]]) # For x-linear \n",
    "\n",
    "# We then set up the coordinates in the focal plane\n",
    "Xs = np.linspace(-l*px,l*px,l)\n",
    "X,Y = np.meshgrid(Xs,Xs)\n",
    "\n",
    "# And finally approximate of the integral by calculating the sum over all theta and phi in steps of dTheta and dPhi\n",
    "\n",
    "from helperFunctions import *\n",
    "\n",
    "mask = getPhaseMask(w,5,0,0,0)\n",
    "map = np.zeros([w,w])\n",
    "C = -1j/wave\n",
    "for theta in range(0,w):\n",
    "    t = (theta+1)*dTheta \n",
    "        \n",
    "    for phi in range(0,w):\n",
    "        p = (phi+1)*dPhi\n",
    "        \n",
    "        # Calculate the rotation matrix for theta and phi\n",
    "        a = 1+(np.cos(t)-1)*np.cos(p)**2\n",
    "        b = (np.cos(t)-1)*np.cos(p)*np.sin(p)\n",
    "        c = -np.sin(t)*np.cos(p)\n",
    "        d = (np.cos(t) -1)*np.cos(p)*np.sin(p)\n",
    "        e = 1+(np.cos(t)-1)*np.sin(p)**2\n",
    "        f = -np.sin(t)*np.sin(p)\n",
    "        \n",
    "        Prot = np.array([[a,b,c],[d,e,f],[-c,-f,np.cos(t)]])\n",
    "        \n",
    "        Pfinal = np.matmul(Prot,Ppupil)\n",
    "        \n",
    "        # Our pupil functions:\n",
    "        A = 1\n",
    "        Bx = np.int(np.round(w/2+(((w/2-1))*np.sin(t)*np.cos(p))))\n",
    "        By = np.int(np.round(w/2+(((w/2-1))*np.sin(t)*np.sin(p))))\n",
    "        B = np.exp(1j*(np.pi+mask[Bx, By]))\n",
    "        # mask[Bx+w, By+w] = 0\n",
    "        map[Bx,By] = 1\n",
    "        # Calculate the contributions to the field\n",
    "        E = np.sqrt(np.cos(t)) * A * B * np.exp(1j*k*n*(X*np.sin(t)*np.cos(p) + Y*np.sin(t)*np.sin(p) + Zoff*np.cos(t))) * np.sin(t) * dTheta*dPhi\n",
    "        \n",
    "        Ex += Pfinal[0]*E\n",
    "        Ey += Pfinal[1]*E\n",
    "        Ez += Pfinal[2]*E\n",
    "\n",
    "Ex = Ex*C\n",
    "Ey = Ey*C\n",
    "Ez = Ez*C\n",
    "\n",
    "PSF = Ex*np.conj(Ex) + Ey*np.conj(Ey) + Ez*np.conj(Ez)\n",
    "plt.subplot(1,2,1)\n",
    "plt.imshow(np.abs(PSF),cmap = 'gray')\n",
    "plt.title('PSF')\n",
    "plt.subplot(1,2,2)\n",
    "plt.imshow(map,cmap = 'gray')\n",
    "plt.title('map')\n",
    "\n",
    "plt.show"
   ]
  }
 ],
 "metadata": {
  "kernelspec": {
   "display_name": "Python 3",
   "language": "python",
   "name": "python3"
  },
  "language_info": {
   "codemirror_mode": {
    "name": "ipython",
    "version": 3
   },
   "file_extension": ".py",
   "mimetype": "text/x-python",
   "name": "python",
   "nbconvert_exporter": "python",
   "pygments_lexer": "ipython3",
   "version": "3.7.6"
  }
 },
 "nbformat": 4,
 "nbformat_minor": 4
}
